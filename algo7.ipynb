{
 "cells": [
  {
   "cell_type": "markdown",
   "metadata": {},
   "source": [
    "# The following code implements Algorithm 7 EstimatingPI EstimateFractalDimension Page 99 of Gerald Friedland: \"Information-Driven Machine Learning\", Springer-Nature, 2023.\n",
    "\n",
    "## https://link.springer.com/book/10.1007/978-3-031-39477-5\n",
    "\n",
    "### The code is written by Neil Patel and released into public domain for demonstration purposes only, use at your own risk.  I appreciate a citation of this repository or the book, whatever fits best.\n",
    "\n",
    "### A theoretical approach to incrementally estimating PI to infinite digits with a finite computer algorithm. No finite mathematical model exists"
   ]
  },
  {
   "cell_type": "code",
   "execution_count": null,
   "metadata": {},
   "outputs": [],
   "source": [
    "import random\n",
    "import math"
   ]
  },
  {
   "cell_type": "code",
   "execution_count": 46,
   "metadata": {},
   "outputs": [
    {
     "name": "stdout",
     "output_type": "stream",
     "text": [
      "Estimated value of π after 10000000 iterations is: 3.1417676\n"
     ]
    }
   ],
   "source": [
    "def estimate_pi(iterations):\n",
    "    inside_circle = 0\n",
    "\n",
    "    for _ in range(iterations):\n",
    "        x, y = random.uniform(-1, 1), random.uniform(-1, 1)\n",
    "        if x**2 + y**2 <= 1:\n",
    "            inside_circle += 1\n",
    "    \n",
    "    # Calculate the estimate of π\n",
    "    pi_estimate = (inside_circle / iterations) * 4\n",
    "    return pi_estimate\n",
    "\n",
    "# Ask the user for the number of iterations\n",
    "iterations = int(input(\"Enter the number of iterations: \"))\n",
    "\n",
    "# Estimate π and print the result\n",
    "pi_estimate = estimate_pi(iterations)\n",
    "print(f\"Estimated value of π after {iterations} iterations is: {pi_estimate}\")\n"
   ]
  }
 ],
 "metadata": {
  "kernelspec": {
   "display_name": "Python 3",
   "language": "python",
   "name": "python3"
  },
  "language_info": {
   "codemirror_mode": {
    "name": "ipython",
    "version": 3
   },
   "file_extension": ".py",
   "mimetype": "text/x-python",
   "name": "python",
   "nbconvert_exporter": "python",
   "pygments_lexer": "ipython3",
   "version": "3.12.2"
  }
 },
 "nbformat": 4,
 "nbformat_minor": 2
}
