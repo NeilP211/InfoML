{
 "cells": [
  {
   "cell_type": "markdown",
   "metadata": {},
   "source": [
    "# The following code implements Algorithm 10 MemorizeCapacityBinaryClassifier Page 173 of Gerald Friedland: \"Information-Driven Machine Learning\", Springer-Nature, 2023.\n",
    "\n",
    "## https://link.springer.com/book/10.1007/978-3-031-39477-5\n",
    "\n",
    "### The code is written by Neil Patel and released into public domain for demonstration purposes only, use at your own risk.  I appreciate a citation of this repository or the book, whatever fits best.\n",
    "\n",
    "### Calculate the memory-equivalent capacity needed for a binary classifier assuming weight equilibrium in a dot product"
   ]
  },
  {
   "cell_type": "code",
   "execution_count": 9,
   "metadata": {},
   "outputs": [],
   "source": [
    "import numpy as np"
   ]
  },
  {
   "cell_type": "code",
   "execution_count": 10,
   "metadata": {},
   "outputs": [],
   "source": [
    "\n",
    "# Load data from nxor.csv\n",
    "data = np.genfromtxt('nxor.csv', delimiter=',', dtype=int)\n",
    "X = data[:, :-1]  # Features\n",
    "Y = data[:, -1]   # Labels"
   ]
  },
  {
   "cell_type": "code",
   "execution_count": 11,
   "metadata": {},
   "outputs": [],
   "source": [
    "def memorize(data, labels):\n",
    "    n, d = data.shape\n",
    "    table = [(tuple(data[i]), labels[i]) for i in range(n)]  # Convert arrays to tuples for sorting\n",
    "    sorted_table = sorted(table, key=lambda x: x[0])  # Sort table based on the first column (data)\n",
    "\n",
    "    thresholds = 0\n",
    "    current_class = None\n",
    "    for row in sorted_table:\n",
    "        if row[1] != current_class:\n",
    "            current_class = row[1]\n",
    "            thresholds += 1\n",
    "\n",
    "    mec = np.log2(thresholds + 1)\n",
    "\n",
    "    return mec\n"
   ]
  },
  {
   "cell_type": "code",
   "execution_count": 12,
   "metadata": {},
   "outputs": [
    {
     "name": "stdout",
     "output_type": "stream",
     "text": [
      "Memory-equivalent capacity needed for a binary classifier: 2.0\n"
     ]
    }
   ],
   "source": [
    "memory_capacity = memorize(X, Y)\n",
    "print(\"Memory-equivalent capacity needed for a binary classifier:\", memory_capacity)"
   ]
  }
 ],
 "metadata": {
  "kernelspec": {
   "display_name": "Python 3",
   "language": "python",
   "name": "python3"
  },
  "language_info": {
   "codemirror_mode": {
    "name": "ipython",
    "version": 3
   },
   "file_extension": ".py",
   "mimetype": "text/x-python",
   "name": "python",
   "nbconvert_exporter": "python",
   "pygments_lexer": "ipython3",
   "version": "3.9.6"
  }
 },
 "nbformat": 4,
 "nbformat_minor": 2
}
