{
 "cells": [
  {
   "cell_type": "markdown",
   "metadata": {},
   "source": [
    "# The following code implements Algorithm 5 PereceptronLearning Page 40 of Gerald Friedland: \"Information-Driven Machine Learning\", Springer-Nature, 2023.\n",
    "\n",
    "## https://link.springer.com/book/10.1007/978-3-031-39477-5\n",
    "\n",
    "### The code is written by Neil Patel and released into public domain for demonstration purposes only, use at your own risk.  I appreciate a citation of this repository or the book, whatever fits best.\n",
    "\n",
    "### Perceptron learning is an algorithm to train a single neuron that is guaranteed to converge to the optimum solution if the capacity of the neuron is large enough to represent the function. Measuring the capacity as explained in Chap. 8 before engaging the algorithm is therefore advisable. w is the weight vector of length d representing the decision boundary between the two classes. The algorithm iteratively updates this vector to minimize the number of misclassifications. y/: The predicted label of the i-th data point in X based on the current weight vector w. yi: The true label of the i-th data point in X from the vector Y"
   ]
  },
  {
   "cell_type": "code",
   "execution_count": 3,
   "metadata": {},
   "outputs": [],
   "source": [
    "import numpy as np"
   ]
  },
  {
   "cell_type": "code",
   "execution_count": 4,
   "metadata": {},
   "outputs": [],
   "source": [
    "# Define Data\n",
    "\n",
    "X = np.array([[1, 2], [2, 3], [3, 4], [4, 5]])\n",
    "Y = np.array([1, -1, 1, -1])\n",
    "T = 100  # Maximum number of iterations"
   ]
  },
  {
   "cell_type": "code",
   "execution_count": 5,
   "metadata": {},
   "outputs": [],
   "source": [
    "def perceptron_learning(X, Y, T):\n",
    "    n, d = X.shape\n",
    "    w = np.random.rand(d)  # Random initialization of weight vector\n",
    "\n",
    "    for _ in range(T):\n",
    "        for i in range(n):\n",
    "            y_pred = np.sign(np.dot(w, X[i]))  # Predicted label\n",
    "            if y_pred != Y[i]:\n",
    "                w = w + Y[i] * X[i]  # Update weight vector\n",
    "\n",
    "    return w"
   ]
  },
  {
   "cell_type": "code",
   "execution_count": 6,
   "metadata": {},
   "outputs": [
    {
     "name": "stdout",
     "output_type": "stream",
     "text": [
      "Optimal weight vector: [-24.1938233   12.51871561]\n"
     ]
    }
   ],
   "source": [
    "w_optimum = perceptron_learning(X, Y, T)\n",
    "print(\"Optimal weight vector:\", w_optimum)"
   ]
  }
 ],
 "metadata": {
  "kernelspec": {
   "display_name": "Python 3",
   "language": "python",
   "name": "python3"
  },
  "language_info": {
   "codemirror_mode": {
    "name": "ipython",
    "version": 3
   },
   "file_extension": ".py",
   "mimetype": "text/x-python",
   "name": "python",
   "nbconvert_exporter": "python",
   "pygments_lexer": "ipython3",
   "version": "3.9.6"
  }
 },
 "nbformat": 4,
 "nbformat_minor": 2
}
