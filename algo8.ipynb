{
 "cells": [
  {
   "cell_type": "markdown",
   "metadata": {},
   "source": [
    "# The following code implements Algorithm 8 MemorizeCapacityNeuralNetwork EstimateFractalDimension Page 118 of Gerald Friedland: \"Information-Driven Machine Learning\", Springer-Nature, 2023.\n",
    "\n",
    "## https://link.springer.com/book/10.1007/978-3-031-39477-5\n",
    "\n",
    "### The code is written by Neil Patel and released into public domain for demonstration purposes only, use at your own risk.  I appreciate a citation of this repository or the book, whatever fits best.\n",
    "\n",
    "### Calculate the upper-bound memory-equivalent capacity expected for a three-layer neural network"
   ]
  },
  {
   "cell_type": "code",
   "execution_count": 15,
   "metadata": {},
   "outputs": [],
   "source": [
    "import numpy as np"
   ]
  },
  {
   "cell_type": "code",
   "execution_count": 16,
   "metadata": {},
   "outputs": [],
   "source": [
    "# Load data from nxor.csv\n",
    "data = np.genfromtxt('nxor.csv', delimiter=',', dtype=int)\n",
    "X = data[:, :-1]  # Features\n",
    "Y = data[:, -1]   # Labels"
   ]
  },
  {
   "cell_type": "code",
   "execution_count": 17,
   "metadata": {},
   "outputs": [],
   "source": [
    "def memorize(data, labels):\n",
    "    n, d = data.shape\n",
    "    table = [(tuple(data[i]), labels[i]) for i in range(n)]  # Convert arrays to tuples for sorting\n",
    "    sorted_table = sorted(table, key=lambda x: x[0])  # Sort table based on the first column (data)\n",
    "\n",
    "    thresholds = 0\n",
    "    current_class = None\n",
    "    for row in sorted_table:\n",
    "        if row[1] != current_class:\n",
    "            current_class = row[1]\n",
    "            thresholds += 1\n",
    "\n",
    "    min_thresholds = np.log2(thresholds + 1)\n",
    "    mec = (min_thresholds * (d + 1)) + min_thresholds \n",
    "\n",
    "    return mec"
   ]
  },
  {
   "cell_type": "code",
   "execution_count": 18,
   "metadata": {},
   "outputs": [
    {
     "name": "stdout",
     "output_type": "stream",
     "text": [
      "Expected upper-bound memory-equivalent capacity: 8.0\n"
     ]
    }
   ],
   "source": [
    "expected_capacity = memorize(X, Y)\n",
    "print(\"Expected upper-bound memory-equivalent capacity:\", expected_capacity)"
   ]
  }
 ],
 "metadata": {
  "kernelspec": {
   "display_name": "Python 3",
   "language": "python",
   "name": "python3"
  },
  "language_info": {
   "codemirror_mode": {
    "name": "ipython",
    "version": 3
   },
   "file_extension": ".py",
   "mimetype": "text/x-python",
   "name": "python",
   "nbconvert_exporter": "python",
   "pygments_lexer": "ipython3",
   "version": "3.9.6"
  }
 },
 "nbformat": 4,
 "nbformat_minor": 2
}
