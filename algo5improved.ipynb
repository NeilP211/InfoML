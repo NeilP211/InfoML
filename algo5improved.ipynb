{
 "cells": [
  {
   "cell_type": "markdown",
   "metadata": {},
   "source": [
    "# The following code implements an improved Algorithm 5 PereceptronLearning Page 40 of Gerald Friedland: \"Information-Driven Machine Learning\", Springer-Nature, 2023.\n",
    "\n",
    "## https://link.springer.com/book/10.1007/978-3-031-39477-5\n",
    "\n",
    "### Novikoff, A. B. J. (1962) - \"On Convergence Proofs on Perceptrons\"\n",
    "\n",
    "### This code implements a Perceptron class in Python, capable of training on binary input data to perform simple binary classifications. The Perceptron is trained using the perceptron learning algorithm, then tested for accuracy on the OR logic gate, with the results printed out."
   ]
  },
  {
   "cell_type": "code",
   "execution_count": 8,
   "metadata": {},
   "outputs": [
    {
     "name": "stdout",
     "output_type": "stream",
     "text": [
      "Perceptron learning converged after 4 mistakes.\n",
      "Accuracy: 1.0\n"
     ]
    }
   ],
   "source": [
    "import numpy as np\n",
    "import matplotlib.pyplot as plt\n",
    "\n",
    "class Perceptron:\n",
    "    def __init__(self, no_of_inputs):\n",
    "        self.w = np.zeros(no_of_inputs + 1)  # Add one for bias (b)\n",
    "\n",
    "    def predict(self, inputs):\n",
    "        summation = np.dot(inputs, self.w[1:]) + self.w[0]\n",
    "        if summation > 0:\n",
    "            activation = 1\n",
    "        else:\n",
    "            activation = 0  # changed from -1 to 0 (to be able to do OR).\n",
    "        return activation\n",
    "\n",
    "    def train(self, training_inputs, labels):\n",
    "        # Transform labels to -1 and 1\n",
    "        labels = np.array([1 if label == 1 else -1 for label in labels])  # The original learning is on -1,1 but 0,1 is needed for OR later.\n",
    "\n",
    "        # Estimate R and gamma (see Perceptron Learning Theorem)\n",
    "        R = max(np.linalg.norm(inputs) for inputs in training_inputs)\n",
    "        gamma = 0.1  # MAGIC CONSTANT as unknowable from the beginning. The lower, the longer we try to fit.\n",
    "        mistakes = 0  # Mistakes = Global counter of errors to track non-convergence\n",
    "        while True:\n",
    "            errors = 0  # Local counter of errors for accuracy, to see if this neuron converged\n",
    "            for inputs, label in zip(training_inputs, labels):\n",
    "                prediction = self.predict(inputs)\n",
    "                if prediction != (1 if label == 1 else 0):  # Transform the label back to 0 and 1 for comparison\n",
    "                    mistakes += 1\n",
    "                    errors += 1\n",
    "                    self.w[1:] += label * inputs\n",
    "                    self.w[0] += label\n",
    "            if errors == 0:\n",
    "                print(\"Perceptron learning converged after\", mistakes, \"mistakes.\")\n",
    "                return errors\n",
    "            if mistakes > (R / gamma) ** 2:  # Maximum number of mistakes per Stopping Criterion\n",
    "                print(\"Perceptron learning FAILED after\", mistakes, \"mistakes.\")\n",
    "                return errors\n",
    "\n",
    "    def accuracy(self, test_inputs, test_labels):\n",
    "        correct = 0\n",
    "        for inputs, label in zip(test_inputs, test_labels):\n",
    "            prediction = self.predict(inputs)\n",
    "            if prediction == label:\n",
    "                correct += 1\n",
    "        return correct / len(test_labels)\n",
    "\n",
    "# Example usage:\n",
    "if __name__ == \"__main__\":\n",
    "    # Training data for OR logic gate\n",
    "    training_inputs = np.array([\n",
    "        [0, 0],\n",
    "        [0, 1],\n",
    "        [1, 0],\n",
    "        [1, 1]\n",
    "    ])\n",
    "    labels = np.array([0, 1, 1, 1])\n",
    "\n",
    "    # Create perceptron\n",
    "    perceptron = Perceptron(no_of_inputs=2)\n",
    "    perceptron.train(training_inputs, labels)\n",
    "\n",
    "    # Testing perceptron\n",
    "    test_inputs = training_inputs\n",
    "    test_labels = labels\n",
    "    accuracy = perceptron.accuracy(test_inputs, test_labels)\n",
    "    print(\"Accuracy:\", accuracy)\n"
   ]
  }
 ],
 "metadata": {
  "kernelspec": {
   "display_name": "base",
   "language": "python",
   "name": "python3"
  },
  "language_info": {
   "codemirror_mode": {
    "name": "ipython",
    "version": 3
   },
   "file_extension": ".py",
   "mimetype": "text/x-python",
   "name": "python",
   "nbconvert_exporter": "python",
   "pygments_lexer": "ipython3",
   "version": "3.12.2"
  }
 },
 "nbformat": 4,
 "nbformat_minor": 2
}
